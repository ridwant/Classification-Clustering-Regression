{
  "nbformat": 4,
  "nbformat_minor": 0,
  "metadata": {
    "colab": {
      "provenance": [],
      "collapsed_sections": []
    },
    "kernelspec": {
      "name": "python3",
      "display_name": "Python 3"
    },
    "language_info": {
      "name": "python"
    }
  },
  "cells": [
    {
      "cell_type": "code",
      "source": [
        "# import libraries\n",
        "\n",
        "import numpy as np \n",
        "import pandas as pd\n",
        "import string\n",
        "\n",
        "import nltk\n",
        "from nltk import pos_tag, word_tokenize, sent_tokenize\n",
        "from nltk.stem.porter import PorterStemmer\n",
        "from nltk.stem import SnowballStemmer\n",
        "from nltk.stem.lancaster import LancasterStemmer\n",
        "from nltk.corpus import stopwords\n",
        "from nltk.stem import WordNetLemmatizer\n",
        "nltk.download('stopwords')\n",
        "nltk.download('punkt')\n",
        "nltk.download('wordnet')\n",
        "nltk.download('omw-1.4')\n",
        "nltk.download('averaged_perceptron_tagger')\n",
        "\n",
        "from sklearn.feature_extraction.text import CountVectorizer, TfidfVectorizer\n",
        "from sklearn.model_selection import train_test_split\n",
        "from sklearn.metrics import classification_report, confusion_matrix, accuracy_score, pairwise\n",
        "from sklearn.model_selection import KFold\n",
        "\n",
        "from scipy.spatial.distance import hamming, euclidean, cityblock\n",
        "from scipy.spatial import minkowski_distance\n",
        "from scipy.spatial import distance_matrix\n",
        "from google.colab import files\n",
        "\n",
        "import matplotlib.pyplot as plt\n",
        "from sklearn.metrics.pairwise import cosine_similarity, euclidean_distances, manhattan_distances\n"
      ],
      "metadata": {
        "colab": {
          "base_uri": "https://localhost:8080/"
        },
        "id": "gIU1w36ZCwMk",
        "outputId": "67bcca80-98b7-46bf-98bc-407f5763a80a"
      },
      "execution_count": 2,
      "outputs": [
        {
          "output_type": "stream",
          "name": "stderr",
          "text": [
            "[nltk_data] Downloading package stopwords to /root/nltk_data...\n",
            "[nltk_data]   Package stopwords is already up-to-date!\n",
            "[nltk_data] Downloading package punkt to /root/nltk_data...\n",
            "[nltk_data]   Package punkt is already up-to-date!\n",
            "[nltk_data] Downloading package wordnet to /root/nltk_data...\n",
            "[nltk_data]   Package wordnet is already up-to-date!\n",
            "[nltk_data] Downloading package omw-1.4 to /root/nltk_data...\n",
            "[nltk_data]   Package omw-1.4 is already up-to-date!\n",
            "[nltk_data] Downloading package averaged_perceptron_tagger to\n",
            "[nltk_data]     /root/nltk_data...\n",
            "[nltk_data]   Package averaged_perceptron_tagger is already up-to-\n",
            "[nltk_data]       date!\n"
          ]
        }
      ]
    },
    {
      "cell_type": "code",
      "source": [
        "# Lemmatization and Stemming\n",
        "\n",
        "#Returns the lemmatized word\n",
        "def get_lemmatized_word(word):\n",
        "  return WordNetLemmatizer().lemmatize(word)\n",
        "\n",
        "#Returns the stemmed word using porter stemming\n",
        "def porter_stem(word):\n",
        "  return PorterStemmer().stem(word)\n",
        "\n",
        "#Returns the stemmed word using snow ball stemming\n",
        "def snowball_stem(word):\n",
        "  return SnowballStemmer(language='english').stem(word)\n",
        "\n",
        "#Returns the stemmed word using lancaster stemming\n",
        "def lanca_stem(word):\n",
        "  return LancasterStemmer().stem(word)"
      ],
      "metadata": {
        "id": "PtAdiVuMFR7J"
      },
      "execution_count": 3,
      "outputs": []
    },
    {
      "cell_type": "code",
      "source": [
        "#Text Preprocessing using word tokenization. \n",
        "#We first separate the word from the text keeping only the alphanumeric word, \n",
        "\n",
        "\"\"\"Parameters: \n",
        "text: Text to tokenize\n",
        "stop_words: list of words to remove from the text\n",
        "stem: stemming the word if specified else no stemming \n",
        "isLemma: lemmatize the word if True \n",
        "pos_tagging: takes only adjective is True\n",
        "\"\"\"\n",
        "\n",
        "def tokenization_using_nltk(text, stop_words=[], stem='', islemma=False, pos_tagging=False):\n",
        "  tokens = [word for word in word_tokenize(text) if word.isalpha() and word not in stop_words]\n",
        "  if pos_tagging:\n",
        "    tagged = nltk.pos_tag(tokens)\n",
        "    tokens = [name for name , pos in tagged if pos in ['JJ', 'ADJ']]\n",
        "  if islemma:\n",
        "    tokens = [get_lemmatized_word(word) for word in tokens]\n",
        "  if stem == 'lanca':\n",
        "     tokens = [lanca_stem(word) for word in tokens]\n",
        "  if stem == 'snow':\n",
        "     tokens = [snowball_stem(word) for word in tokens]\n",
        "  if stem == 'porter':\n",
        "    tokens = [porter_stem(word) for word in tokens]\n",
        "  return tokens"
      ],
      "metadata": {
        "id": "EeZ0YZTG7HUI"
      },
      "execution_count": 4,
      "outputs": []
    },
    {
      "cell_type": "code",
      "source": [
        "# method for KNN Implementation \n",
        "\n",
        "\n",
        "\"\"\" \n",
        "gets distance between based on distance metric\n",
        "\"\"\"\n",
        "\n",
        "def get_distance(test_data, train_data, distance_metric='cosine'):\n",
        "  if distance_metric == 'manhattan':\n",
        "    return manhattan_distances(test_data, train_data)\n",
        "  if distance_metric == 'euclidian':\n",
        "    return euclidean_distances(test_data, train_data)\n",
        "  if distance_metric == 'cosine':\n",
        "    return cosine_similarity(test_data, train_data)\n",
        "  return cosine_similarity(test_data, train_data)\n",
        "\n",
        "def cosine_similarity(test_data, train_data):\n",
        "  cosineSimilarities = np.dot(test_data, np.transpose(train_data))\n",
        "  similarities = cosineSimilarities.toarray()\n",
        "  return similarities\n",
        "\n",
        "\n",
        "\n",
        "\"\"\" \n",
        "gets the k nearest neighbour and takes the majority vote to predict the sentiment\n",
        "\"\"\"\n",
        "\n",
        "def get_nearest_neighbour(training_data_x, test_data, training_data_y, num_neignbour=3, distance_metric='cosine'):\n",
        "  dist_mat = get_distance(test_data, training_data_x,  distance_metric=distance_metric)\n",
        "  prediction_sentiment = list()\n",
        "  for dist in dist_mat:\n",
        "    k_neigh = np.argsort(-dist)[:num_neignbour]\n",
        "    predicted_values = []\n",
        "    for x in k_neigh:\n",
        "      predicted_values.append(int(training_data_y[x]))\n",
        "    if predicted_values.count(-1) > predicted_values.count(1):\n",
        "      prediction_sentiment.append(-1)\n",
        "    else:\n",
        "      prediction_sentiment.append(1)\n",
        "  \n",
        "  return prediction_sentiment\n",
        "\n",
        "\n",
        "\"\"\" \n",
        "gets the k nearest neighbour and takes the weighted vote to predict the sentiment\n",
        "\"\"\"\n",
        "\n",
        "def get_nearest_neighbour_weighted_voting(training_data_x, test_data, training_data_y, num_neignbour=3, distance_metric='cosine'):\n",
        "  dist_mat = get_distance(test_data, training_data_x,  distance_metric='cosine')\n",
        "  prediction_sentiment = list()\n",
        "  for dist in dist_mat:\n",
        "    k_neigh = np.argsort(-dist)[:num_neignbour]\n",
        "    neg_weight = 0.0\n",
        "    pos_weight = 0.0\n",
        "    for x in k_neigh:\n",
        "      if int(training_data_y[x]) == 1:\n",
        "        pos_weight+=(1-dist[x])\n",
        "      else:\n",
        "        neg_weight+=(1-dist[x])\n",
        "    if pos_weight > neg_weight:\n",
        "      prediction_sentiment.append(1)\n",
        "    else:\n",
        "      prediction_sentiment.append(-1)\n",
        "  return prediction_sentiment\n"
      ],
      "metadata": {
        "id": "MmNbVrCZRIZ0"
      },
      "execution_count": 5,
      "outputs": []
    },
    {
      "cell_type": "code",
      "source": [
        "# Method to process the text and return the processed text\n",
        "\n",
        "def data_preprocess(text_data, stop_words=[], stem='', islemma=False):\n",
        "  processed_reviews = []\n",
        "  for i in range(len(text_data)):\n",
        "    review_text = text_data[i].lower()\n",
        "    tokens = tokenization_using_nltk(review_text, stop_words=stop_words, stem=stem, islemma=islemma)\n",
        "    processed_reviews.append(\" \".join(tokens))\n",
        "\n",
        "  return processed_reviews"
      ],
      "metadata": {
        "id": "UStWW2iMKJk-"
      },
      "execution_count": 6,
      "outputs": []
    },
    {
      "cell_type": "code",
      "source": [
        "# Spliting data\n",
        "\n",
        "def split_data_prediction_values(X, Y, test_size = 0.3):\n",
        "  x_train,x_test,y_train,y_test = train_test_split(X,Y,test_size=test_size)\n",
        "  return x_train,x_test,y_train,y_test\n",
        "\n",
        "# TFIDF representation of the data  \n",
        "\n",
        "def getTFIDRepresentation(X, test_X, features={'max_features': None, 'max_df': 1.0,\n",
        "    'min_df': 1,\n",
        "    'ngram_range': (1,1)}):\n",
        "  tfidfconverter = TfidfVectorizer(max_features=features['max_features'], min_df=features['min_df'], max_df=features['max_df'], ngram_range=features['ngram_range'])\n",
        "  x_train_bow = tfidfconverter.fit_transform(X)\n",
        "  x_test_bow = tfidfconverter.transform(test_X)\n",
        "  return x_train_bow, x_test_bow\n"
      ],
      "metadata": {
        "id": "Bw9pNDz1fEqZ"
      },
      "execution_count": 7,
      "outputs": []
    },
    {
      "cell_type": "code",
      "source": [
        "# K-fold cross validation \n",
        "\n",
        "def k_fold_validation(X, Y, num_neignbour=3, fold=5, features={}, distance_metric='cosine'):\n",
        "  kf = KFold(n_splits=fold, shuffle=True)\n",
        "  avg_accu = 0.0\n",
        "  for train, test in kf.split(X):\n",
        "    x_train_bow, x_test_bow = getTFIDRepresentation(X[train],X[test],features=features)\n",
        "    y_train_values = Y[train].values\n",
        "    prediction =  get_nearest_neighbour_weighted_voting(x_train_bow, x_test_bow, y_train_values, num_neignbour=num_neignbour, distance_metric=distance_metric)\n",
        "    avg_accu += accuracy_score(Y[test], prediction)\n",
        "  \n",
        "  return avg_accu/fold"
      ],
      "metadata": {
        "id": "iVxLSaPXVxF8"
      },
      "execution_count": 8,
      "outputs": []
    },
    {
      "cell_type": "code",
      "execution_count": 9,
      "metadata": {
        "id": "RJUA4-g6iFBi"
      },
      "outputs": [],
      "source": [
        "# Experiment on training data \n",
        "\n",
        "# training and testing data url from git hub\n",
        "\n",
        "train_data_url = 'https://raw.githubusercontent.com/ridwant/DataMinig/main/1661892619_92027_train_file.csv'\n",
        "test_data_url = 'https://raw.githubusercontent.com/ridwant/DataMinig/main/1661892619_9579706_test_file.csv'\n",
        "\n",
        "#load data using pandas data frame\n",
        "train_df = pd.read_csv(train_data_url, usecols=[0,1], names=['rating', 'review'])\n",
        "test_df = pd.read_csv(test_data_url, usecols=[0], names=['review'])\n",
        "\n",
        "stop_words = ['a', 'an', 'the', 'be', 'to', 'of', 'and', 'in', 'that', 'have', 'i', 'it', 'this', 'that', 'for', 'on', 'with', 'he', 'as', 'she', 'you', 'youll', 'do', 'at', 'his', 'her', 'by', 'from', 'they', 'we', 'say', 'said', 'or', 'will', 'my', \n",
        "              'one', 'all', 'there', 'their', 'what', 'how', 'so', 'up', 'out', 'if', 'who', 'about', 'which', 'us']"
      ]
    },
    {
      "cell_type": "code",
      "source": [
        "#fianl prediction on test data sets \n",
        "\n",
        "# determined k value \n",
        "\n",
        "selected_k = 171\n",
        "\n",
        "# determined features\n",
        "features =  {\n",
        "    'max_features': 50000,\n",
        "    'max_df': 0.9,\n",
        "    'min_df': 1,\n",
        "    'ngram_range': (2,3)\n",
        "}\n",
        "\n",
        "processed_reviews = data_preprocess(train_df['review'], stop_words=stop_words, stem='porter', islemma=False)\n",
        "processed_training_df = pd.DataFrame({'review': processed_reviews, 'rating': list(train_df['rating'])})\n",
        "\n",
        "X = processed_training_df['review']\n",
        "Y = processed_training_df['rating']\n",
        "\n",
        "processed_test_reviews = data_preprocess(test_df['review'], stop_words=stop_words, stem='porter', islemma=False)\n",
        "processed_test_df = pd.DataFrame({'review': processed_test_reviews})\n",
        "test_X = processed_test_df['review']\n",
        "\n",
        "final_x_train_bow, final_x_test_bow = getTFIDRepresentation(X,test_X,features=features)\n",
        "y_train_values = Y.values\n",
        "\n",
        "prediction =  get_nearest_neighbour(final_x_train_bow, final_x_test_bow, y_train_values, selected_k, 'cosine')\n",
        "\n",
        "df = pd.DataFrame(prediction)\n",
        "df.to_csv('final_submission_1.csv', encoding = 'utf-8-sig', index=False, header=None) \n",
        "files.download(\"final_submission_1.csv\")\n"
      ],
      "metadata": {
        "colab": {
          "base_uri": "https://localhost:8080/",
          "height": 17
        },
        "id": "FvSDHEZsdbVX",
        "outputId": "1759b1e8-dec8-4368-c51f-fe009e6000bb"
      },
      "execution_count": 10,
      "outputs": [
        {
          "output_type": "display_data",
          "data": {
            "text/plain": [
              "<IPython.core.display.Javascript object>"
            ],
            "application/javascript": [
              "\n",
              "    async function download(id, filename, size) {\n",
              "      if (!google.colab.kernel.accessAllowed) {\n",
              "        return;\n",
              "      }\n",
              "      const div = document.createElement('div');\n",
              "      const label = document.createElement('label');\n",
              "      label.textContent = `Downloading \"${filename}\": `;\n",
              "      div.appendChild(label);\n",
              "      const progress = document.createElement('progress');\n",
              "      progress.max = size;\n",
              "      div.appendChild(progress);\n",
              "      document.body.appendChild(div);\n",
              "\n",
              "      const buffers = [];\n",
              "      let downloaded = 0;\n",
              "\n",
              "      const channel = await google.colab.kernel.comms.open(id);\n",
              "      // Send a message to notify the kernel that we're ready.\n",
              "      channel.send({})\n",
              "\n",
              "      for await (const message of channel.messages) {\n",
              "        // Send a message to notify the kernel that we're ready.\n",
              "        channel.send({})\n",
              "        if (message.buffers) {\n",
              "          for (const buffer of message.buffers) {\n",
              "            buffers.push(buffer);\n",
              "            downloaded += buffer.byteLength;\n",
              "            progress.value = downloaded;\n",
              "          }\n",
              "        }\n",
              "      }\n",
              "      const blob = new Blob(buffers, {type: 'application/binary'});\n",
              "      const a = document.createElement('a');\n",
              "      a.href = window.URL.createObjectURL(blob);\n",
              "      a.download = filename;\n",
              "      div.appendChild(a);\n",
              "      a.click();\n",
              "      div.remove();\n",
              "    }\n",
              "  "
            ]
          },
          "metadata": {}
        },
        {
          "output_type": "display_data",
          "data": {
            "text/plain": [
              "<IPython.core.display.Javascript object>"
            ],
            "application/javascript": [
              "download(\"download_3efaef2a-055b-4df1-8509-aa3338b00cd2\", \"final_submission_1.csv\", 44930)"
            ]
          },
          "metadata": {}
        }
      ]
    }
  ]
}