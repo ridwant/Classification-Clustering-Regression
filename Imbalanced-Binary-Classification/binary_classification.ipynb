{
  "nbformat": 4,
  "nbformat_minor": 0,
  "metadata": {
    "colab": {
      "provenance": [],
      "collapsed_sections": []
    },
    "kernelspec": {
      "name": "python3",
      "display_name": "Python 3"
    },
    "language_info": {
      "name": "python"
    }
  },
  "cells": [
    {
      "cell_type": "code",
      "source": [
        "# import libraries\n",
        "\n",
        "import numpy as np \n",
        "import pandas as pd\n",
        "from sklearn.naive_bayes import BernoulliNB\n",
        "from sklearn.feature_extraction.text import CountVectorizer, TfidfTransformer\n",
        "from sklearn.metrics import f1_score, accuracy_score, classification_report, confusion_matrix, precision_score, recall_score\n",
        "from sklearn.utils import resample\n",
        "from sklearn.tree import DecisionTreeClassifier\n",
        "\n",
        "from google.colab import files\n",
        "from scipy import sparse\n",
        "\n",
        "from imblearn.over_sampling import RandomOverSampler\n",
        "from imblearn.under_sampling import RandomUnderSampler, EditedNearestNeighbours, TomekLinks, OneSidedSelection, NeighbourhoodCleaningRule, RepeatedEditedNearestNeighbours, AllKNN, CondensedNearestNeighbour\n",
        "from imblearn.over_sampling import SMOTE, SVMSMOTE, ADASYN, KMeansSMOTE, BorderlineSMOTE\n",
        "from imblearn.combine import SMOTEENN, SMOTETomek\n",
        "from imblearn.pipeline import Pipeline\n",
        "from sklearn.model_selection import cross_val_score\n",
        "from sklearn.model_selection import RepeatedStratifiedKFold\n",
        "\n",
        "from sklearn.decomposition import PCA\n",
        "from sklearn.feature_selection import SelectKBest, f_regression, chi2, VarianceThreshold, mutual_info_classif, f_classif, RFE, RFECV, SelectFromModel, SelectPercentile, SelectFpr, GenericUnivariateSelect\n",
        "from sklearn.neural_network import MLPClassifier, BernoulliRBM\n",
        "from numpy import mean\n",
        "import matplotlib.pyplot as plt\n",
        "from sklearn.decomposition import TruncatedSVD\n",
        "from sklearn.svm import SVC\n",
        "\n",
        "from sklearn.ensemble import ExtraTreesClassifier"
      ],
      "metadata": {
        "id": "l2aXjIJArGIj"
      },
      "execution_count": 44,
      "outputs": []
    },
    {
      "cell_type": "code",
      "source": [
        "\n",
        "train_data_url = 'https://raw.githubusercontent.com/ridwant/DataMinig/main/hw2train.txt'\n",
        "test_data_url = 'https://raw.githubusercontent.com/ridwant/DataMinig/main/1664296410_921989_test.txt'\n",
        "\n",
        "train_df = pd.read_table(train_data_url, header=None, skip_blank_lines=False, names=['active', 'attribute'])\n",
        "test_df = pd.read_table(test_data_url, header=None, skip_blank_lines=False, names=['attribute'])"
      ],
      "metadata": {
        "id": "EmyC4fsLxYzQ"
      },
      "execution_count": 45,
      "outputs": []
    },
    {
      "cell_type": "code",
      "source": [
        "def create_sparse_matrix(samples):\n",
        "  vals = []\n",
        "  row_idxs = []\n",
        "  col_idxs = []\n",
        "  for idx, sample in enumerate(samples):\n",
        "    sample = sample.strip().split(\" \")\n",
        "    for s in sample:\n",
        "      if s.strip() != '':\n",
        "        col_idxs.append(int(s))\n",
        "        row_idxs.append(idx)\n",
        "        vals.append(1)\n",
        "  csc = sparse.csc_matrix((vals, (row_idxs, col_idxs)))\n",
        "\n",
        "  return csc"
      ],
      "metadata": {
        "id": "cQXUDaf0Ofl7"
      },
      "execution_count": 46,
      "outputs": []
    },
    {
      "cell_type": "code",
      "source": [
        "#Final Prediction\n",
        "\n",
        "X = create_sparse_matrix(train_df['attribute'])\n",
        "Y = train_df['active']\n",
        "\n",
        "under = RandomUnderSampler(random_state=1)\n",
        "X_resampled, y_resampled = under.fit_resample(X, Y)\n",
        "\n",
        "fs = SelectKBest(score_func=chi2, k=230)\n",
        "X_selected = fs.fit_transform(X_resampled, y_resampled)\n",
        "\n",
        "X_test = create_sparse_matrix(test_df['attribute'])\n",
        "X_test_reduced = fs.transform(X_test)\n",
        "\n",
        "model = BernoulliNB(alpha=0.5)\n",
        "\n",
        "model.fit(X_selected, y_resampled)\n",
        "prediction = model.predict(X_test_reduced)\n",
        "\n",
        "df = pd.DataFrame(prediction)\n",
        "df.to_csv('final.csv', index=False, header=False) \n",
        "files.download(\"final.csv\")"
      ],
      "metadata": {
        "colab": {
          "base_uri": "https://localhost:8080/",
          "height": 17
        },
        "id": "39LE-9RZGtnU",
        "outputId": "19e1c734-d5ce-4874-ceae-b10e520672a6"
      },
      "execution_count": 47,
      "outputs": [
        {
          "output_type": "display_data",
          "data": {
            "text/plain": [
              "<IPython.core.display.Javascript object>"
            ],
            "application/javascript": [
              "\n",
              "    async function download(id, filename, size) {\n",
              "      if (!google.colab.kernel.accessAllowed) {\n",
              "        return;\n",
              "      }\n",
              "      const div = document.createElement('div');\n",
              "      const label = document.createElement('label');\n",
              "      label.textContent = `Downloading \"${filename}\": `;\n",
              "      div.appendChild(label);\n",
              "      const progress = document.createElement('progress');\n",
              "      progress.max = size;\n",
              "      div.appendChild(progress);\n",
              "      document.body.appendChild(div);\n",
              "\n",
              "      const buffers = [];\n",
              "      let downloaded = 0;\n",
              "\n",
              "      const channel = await google.colab.kernel.comms.open(id);\n",
              "      // Send a message to notify the kernel that we're ready.\n",
              "      channel.send({})\n",
              "\n",
              "      for await (const message of channel.messages) {\n",
              "        // Send a message to notify the kernel that we're ready.\n",
              "        channel.send({})\n",
              "        if (message.buffers) {\n",
              "          for (const buffer of message.buffers) {\n",
              "            buffers.push(buffer);\n",
              "            downloaded += buffer.byteLength;\n",
              "            progress.value = downloaded;\n",
              "          }\n",
              "        }\n",
              "      }\n",
              "      const blob = new Blob(buffers, {type: 'application/binary'});\n",
              "      const a = document.createElement('a');\n",
              "      a.href = window.URL.createObjectURL(blob);\n",
              "      a.download = filename;\n",
              "      div.appendChild(a);\n",
              "      a.click();\n",
              "      div.remove();\n",
              "    }\n",
              "  "
            ]
          },
          "metadata": {}
        },
        {
          "output_type": "display_data",
          "data": {
            "text/plain": [
              "<IPython.core.display.Javascript object>"
            ],
            "application/javascript": [
              "download(\"download_d2201345-9187-4c3f-b086-4043db4558d2\", \"final.csv\", 700)"
            ]
          },
          "metadata": {}
        }
      ]
    }
  ]
}